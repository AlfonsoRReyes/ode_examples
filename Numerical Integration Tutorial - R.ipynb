{
 "cells": [
  {
   "cell_type": "markdown",
   "metadata": {},
   "source": [
    "# Numerically solving differential equations with R\n",
    "\n",
    "*This is a brief description of what numerical integration is and a practical tutorial on how to do it in R.*"
   ]
  },
  {
   "cell_type": "markdown",
   "metadata": {},
   "source": [
    "\n",
    "## Software required\n",
    "### R\n",
    "*In order to run the R codes in this notebook in your own computer, you need to install the following software:*\n",
    "\n",
    "* [R](http://www.r-project.org/), along with the packages from [CRAN](http://cran.r-project.org/):\n",
    "  * [deSolve](http://www.vps.fmvz.usp.br/CRAN/web/packages/deSolve/index.html), a library for solving differential equations\n",
    "  * [ggplot2](http://www.vps.fmvz.usp.br/CRAN/web/packages/ggplot2/index.html), a library for plotting\n",
    "  * [reshape2](http://cran.r-project.org/web/packages/reshape2/index.html), for manipulating data.frames\n",
    "\n",
    "To install R, download it from its homepage (Windows or Mac): http://www.r-project.org/. On Linux, you can install it using your distribution's prefered way, e.g.:\n",
    "\n",
    "* Debian/Ubuntu: `sudo apt-get install r-base`\n",
    "* Fedora: `sudo yum install R`\n",
    "* Arch: `sudo pacman -S r`\n",
    "\n",
    "To install the packages, all you have to do is run the following in the `R` prompt\n",
    "\n",
    "    install.packages(c(\"deSolve\", \"ggplot2\", \"reshape2\"))\n",
    " \n",
    "The R code presented here and some additional examples are available at https://github.com/diogro/ode_examples (thanks, [Diogro](https://github.com/diogro)!).\n",
    "\n",
    "### Running commands in  R\n",
    "You can also follow the instructions in this notebook and run the commands in R in two ways:\n",
    "* Copy the R codes snippets in this notebook and paste them in the R promt. Alternatively you can save them in a pure text file with .r or .R extension and ran directly in an R shell.\n",
    "* Download the [R script](https://raw.githubusercontent.com/diogro/ode_examples/master/Numerical%20Integration%20Tutorial.R) and ran the commands in a R shell.\n",
    "\n",
    "### Running R commands from ipython notebook\n",
    "*To run the R commands in this notebook from IP[y] you need also:*\n",
    "\n",
    "* the [ipython notebook](http://ipython.org/notebook.html) and\n",
    "* [rpy](http://rpy.sourceforge.net), an interface between R and python.\n",
    "\n",
    "To install the notebook on Windows and Mac, we recommend installing the [Anaconda distribution](https://store.continuum.io/cshop/anaconda/), available at http://continuum.io/downloads. On Linux it should be available from your distro's repositories.\n",
    "\n",
    "\n",
    "### Running from the web\n",
    "If you for some reason don' want to install anything on your computer, you can use a service that runs notebooks on the cloud, e.g. [SageMathCloud](https://cloud.sagemath.com/) or [wakari](https://www.wakari.io/). It is possible to visualize publicly-available notebooks on http://nbviewer.ipython.org, but no computation can be performed (it just shows saved pre-calculated results).\n",
    "\n"
   ]
  },
  {
   "cell_type": "markdown",
   "metadata": {},
   "source": [
    "## How numerical integration works\n",
    "\n",
    "Let's say we have a differential equation that we don't know how (or don't want) to derive its (analytical) solution. We can still find out what the solutions are through **numerical integration**. So, how does that work?\n",
    "\n",
    "The idea is to approximate the solution at successive small time intervals, extrapolating the value of the derivative over each interval. For example, let's take the differential equation\n",
    "\n",
    "$$ \\frac{dx}{dt} = f(x) = x (1 - x) $$\n",
    "\n",
    "with an initial value $x_0 = 0.1$ at an initial time $t=0$ (that is, $x(0) = 0.1$). At $t=0$, the derivative $\\frac{dx}{dt}$ values $f(0.1) = 0.1 \\times (1-0.1) = 0.09$. We pick a small interval step, say, $\\Delta t = 0.5$, and assume that the derivative value is a good approximation to the function over the whole interval from $t=0$ up to $t=0.5$. This means that in this time $x$ is going to increase by $\\frac{dx}{dt} \\times \\Delta t = 0.09 \\times 0.5 = 0.045$. So our approximate solution for $x$ at $t=0.5$ is $x(0) + 0.045 = 0.145$. We can then use this value of $x(0.5)$ to calculate the next point in time, $t=1$. We calculate the derivative at each step, multiply by the time step and add to the previous value of the solution, as in the table below:\n",
    "\n",
    "| $t$ | $x$      | $\\frac{dx}{dt}$  |\n",
    "| ---:|---------:|----------:|\n",
    "| 0   | 0.1      |  0.09     |\n",
    "| 0.5 | 0.145    |  0.123975 |\n",
    "| 1.0 | 0.206987 |  0.164144 |\n",
    "| 1.5 | 0.289059 |  0.205504 |\n",
    "| 2.0 | 0.391811 |  0.238295 |\n",
    "\n",
    "Of course, this is terribly tedious to do by hand, so we can write a simple program to do it and plot the solution. Below we compare it to the known analytical solution of this differential equation (the *logistic equation*). **Don't worry about the code just yet**: there are better and simpler ways to do it!"
   ]
  },
  {
   "cell_type": "code",
   "execution_count": 4,
   "metadata": {
    "collapsed": false
   },
   "outputs": [
    {
     "data": {
      "image/png": "[encoded data removed]"
     },
     "metadata": {},
     "output_type": "display_data"
    },
    {
     "data": {
      "image/png": "[encoded data removed]"
     },
     "metadata": {},
     "output_type": "display_data"
    },
    {
     "data": {
      "image/png": "[encoded data removed]"
     },
     "metadata": {},
     "output_type": "display_data"
    }
   ],
   "source": [
    "# time intervals: a sequence from zero to ten at 0.5 steps\n",
    "time <- seq(0, 10, by = 0.5)\n",
    "# initial condition\n",
    "x0 <- 0.1\n",
    "## The function to be integrated (right-hand expression of the derivative above)\n",
    "f <- function(x){x * (1.-x)}\n",
    "\n",
    "## An empty R vector to store the results\n",
    "x <- c()\n",
    "## Store the initial condition in the first position of the vector\n",
    "x[1] <- x0\n",
    "\n",
    "# loop over time: approximate the function at each time step\n",
    "for (i in 1:(length(time)-1)){\n",
    "    x[i+1] = x[i] + 0.5 * f(x[i])\n",
    "}\n",
    "\n",
    "# plotting \n",
    "plot(x~time)\n",
    "curve(0.1 * exp(x)/(1+0.1*(exp(x)-1.)), add=T)\n",
    "legend(\"topleft\", c(\"approximation\", \"analytical\"), \n",
    "       pch=c(1,NA), lty=c(NA,1))"
   ]
  },
  {
   "cell_type": "markdown",
   "metadata": {},
   "source": [
    "You can use the ggplot2 library instead of the standard ploting functions:"
   ]
  },
  {
   "cell_type": "code",
   "execution_count": 5,
   "metadata": {
    "collapsed": false
   },
   "outputs": [
    {
     "data": {
      "image/png": "[encoded data removed]"
     },
     "metadata": {},
     "output_type": "display_data"
    }
   ],
   "source": [
    "## plotting with ggplot2\n",
    "library(ggplot2)#load each library once per R session\n",
    "p <- ggplot(data = data.frame(x = x, t = time), aes(t, x)) + geom_point()\n",
    "analytic <- stat_function(fun=function(t){0.1 * exp(t)/(1+0.1*(exp(t)-1.))})\n",
    "print(p+analytic)"
   ]
  },
  {
   "cell_type": "markdown",
   "metadata": {},
   "source": [
    "## Why use scientific libraries?\n",
    "\n",
    "The method we just used above is called the *Euler method*, and is the simplest one available. The problem is that, although it works reasonably well for the differential equation above, in many cases it doesn't perform very well. There are many ways to improve it: in fact, there are many books entirely dedicated to this. Although many math or physics students do learn how to implement more sophisticated methods, the topic is really deep. Luckily, we can rely on the expertise of lots of people to come up with good algorithms that work well in most situations."
   ]
  },
  {
   "cell_type": "markdown",
   "metadata": {},
   "source": [
    "## Then, how... ?\n",
    "\n",
    "We are going to demonstrate how to use scientific libraries to integrate differential equations. Although the specific commands depend on the software, the general procedure is usually the same:\n",
    "\n",
    "* define the derivative function (the right hand side of the differential equation)\n",
    "* choose a time step or a sequence of times where you want the solution\n",
    "* provide the parameters and the initial condition\n",
    "* pass the function, time sequence, parameters and initial conditions to a computer routine that runs the integration.\n",
    "\n",
    "### A single equation\n",
    "\n",
    "So, let's start with the same equation as above, the logistic equation, now with any parameters for growth rate and carrying capacity:\n",
    "\n",
    "$$ \\frac{dx}{dt} = f(x) = r x \\left(1 - \\frac{x}{K} \\right) $$\n",
    "\n",
    "with $r=2$, $K=10$ and $x(0) = 0.1$. We show how to integrate it using the desolve package below, introducing key language syntax as necessary."
   ]
  },
  {
   "cell_type": "code",
   "execution_count": 6,
   "metadata": {
    "collapsed": false
   },
   "outputs": [
    {
     "name": "stdout",
     "output_type": "stream",
     "text": [
      "     time         x\n",
      "[1,] 0.00 0.1000000\n",
      "[2,] 0.01 0.1014960\n",
      "[3,] 0.02 0.1030141\n",
      "[4,] 0.03 0.1045547\n",
      "[5,] 0.04 0.1061181\n",
      "[6,] 0.05 0.1077046\n"
     ]
    },
    {
     "data": {
      "image/png": "[encoded data removed]"
     },
     "metadata": {},
     "output_type": "display_data"
    }
   ],
   "source": [
    "library(deSolve)# loads the library\n",
    "\n",
    "## time sequence\n",
    "time <- seq(from=0, to=10, by = 0.01)\n",
    "# parameters: a named vector\n",
    "parameters <- c(r = 1.5, K = 10)\n",
    "\n",
    "# initial conditions: also a named vector\n",
    "state <- c(x = 0.1)\n",
    "\n",
    "# let's define the right-hand side of the differential equation.\n",
    "# To be recognized by the integration routines of deSolve\n",
    "# it must be an R function that computes the values\n",
    "# of the derivative on a time t \n",
    "## There are many ways to do this, but the recommended format is:\n",
    "# 1. Make a function with three arguments:\n",
    "# time sequence, state variables and parameters, in this order.\n",
    "# 2. The function returns a list with results of the function to be integrated\n",
    "# 3. Inside the R function use 'with(as.list(c(state, parameters){ ... }'\n",
    "# and include between brackets the function(s) to be integrated\n",
    "# and then close returning the list of the calculated values\n",
    "logistic <- function(t, state, parameters){\n",
    "    with(\n",
    "        as.list(c(state, parameters)),{\n",
    "            dx <- r*x*(1-x/K)\n",
    "            return(list(dx))\n",
    "        }\n",
    "        )\n",
    "}\n",
    "\n",
    "# Now call the R function 'ode', to perform the integration\n",
    "# the basic arguments of 'ode' are\n",
    "# y: the vector of initial conditions\n",
    "# times: the vector with the time sequence\n",
    "# func: the R function as described above\n",
    "# parms: vector of parameters\n",
    "out <- ode(y = state, times = time, func = logistic, parms = parameters)\n",
    "# the resulting object has the values of the integration\n",
    "# at each time point in the vector of times\n",
    "print(head(out)) # first 6 lines, print function not necessary when pasting in R\n",
    "\n",
    "## Ploting with ggplot2\n",
    "p <- ggplot(data = as.data.frame(out), aes(time, x)) + geom_point()\n",
    "analytic <- stat_function(fun=function(t){0.1*10*exp(1.5*t)/(10+0.1*(exp(1.5*t)-1))})\n",
    "print(p+analytic)"
   ]
  },
  {
   "cell_type": "markdown",
   "metadata": {},
   "source": [
    "We get a much better approximation now, the two curves superimpose each other!\n",
    "\n",
    "### A system of equations\n",
    "Now, what if we wanted to integrate a system of differential equations? Let's take the Lotka-Volterra equations:\n",
    "\n",
    "$$ \\begin{aligned}\n",
    "\\frac{dV}{dt} &= r V - c V P\\\\\n",
    "\\frac{dP}{dt} &= ec V P - dP\n",
    "\\end{aligned}$$\n",
    "\n",
    "All that you have to do is to write an R function that returns the values of both derivatives at each time, and to define the values of the parameters and of the initial conditions:"
   ]
  },
  {
   "cell_type": "code",
   "execution_count": 7,
   "metadata": {
    "collapsed": false
   },
   "outputs": [
    {
     "data": {
      "image/png": "[encoded data removed]"
     },
     "metadata": {},
     "output_type": "display_data"
    }
   ],
   "source": [
    "# time sequence \n",
    "time <- seq(0, 50, by = 0.01)\n",
    "\n",
    "# parameters: a named vector\n",
    "parameters <- c(r = 2, k = 0.5, e = 0.1, d = 1)\n",
    "\n",
    "# initial condition: a named vector\n",
    "state <- c(V = 1, P = 3)\n",
    "\n",
    "# R function to calculate the value of the derivatives at each time value\n",
    "# Use the names of the variables as defined in the vectors above\n",
    "lotkaVolterra <- function(t, state, parameters){\n",
    "  with(as.list(c(state, parameters)), {\n",
    "    dV = r * V - k * V * P\n",
    "    dP = e * k * V * P - d * P\n",
    "    return(list(c(dV, dP)))\n",
    "  })\n",
    "}\n",
    "## Integration with 'ode'\n",
    "out <- ode(y = state, times = time, func = lotkaVolterra, parms = parameters)\n",
    "\n",
    "## Ploting\n",
    "out.df = as.data.frame(out) # required by ggplot: data object must be a data frame\n",
    "library(reshape2)\n",
    "out.m = melt(out.df, id.vars='time') # this makes plotting easier by puting all variables in a single column\n",
    "\n",
    "p <- ggplot(out.m, aes(time, value, color = variable)) + geom_point()\n",
    "print(p)"
   ]
  },
  {
   "cell_type": "markdown",
   "metadata": {},
   "source": [
    "An interesting thing to do here is take a look at the *phase space*, that is, plot only the dependent variables, without respect to time:"
   ]
  },
  {
   "cell_type": "code",
   "execution_count": 8,
   "metadata": {
    "collapsed": false
   },
   "outputs": [
    {
     "data": {
      "image/png": "[encoded data removed]"
     },
     "metadata": {},
     "output_type": "display_data"
    }
   ],
   "source": [
    "p2 <- ggplot(data = out.df[1:567,], aes(x = P, V, color = time)) + geom_point()\n",
    "print(p2)"
   ]
  },
  {
   "cell_type": "markdown",
   "metadata": {},
   "source": [
    "**Congratulations**: you are now ready to integrate any system of differential equations!"
   ]
  },
  {
   "cell_type": "markdown",
   "metadata": {},
   "source": [
    "### For more info:\n",
    "\n",
    "* [Introduction to R](cran.r-project.org/doc/manuals/R-intro.html)\n",
    "* [Crash course in R](http://www.r-bloggers.com/a-crash-course-in-r/)\n",
    "* [ode package](http://desolve.r-forge.r-project.org/)\n",
    "* [Some additional example codes](https://github.com/diogro/ode_examples)\n",
    "* [ggplot2 package](http://ggplot2.org/)\n",
    "* [A R graph gallery](http://www.sr.bham.ac.uk/~ajrs/R/r-gallery.html)\n",
    "* [Another tutorial on numerical integration in R](http://www.r-bloggers.com/learning-r-parameter-fitting-for-models-involving-differential-equations/)"
   ]
  }
 ],
 "metadata": {
  "kernelspec": {
   "display_name": "R",
   "language": "",
   "name": "r"
  },
  "language_info": {
   "codemirror_mode": "r",
   "file_extension": ".r",
   "mimetype": "text/x-r-source",
   "name": "R",
   "pygments_lexer": "r"
  }
 },
 "nbformat": 4,
 "nbformat_minor": 0
}
